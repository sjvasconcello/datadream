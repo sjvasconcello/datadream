{
 "cells": [
  {
   "cell_type": "markdown",
   "metadata": {},
   "source": [
    "# Statistics"
   ]
  },
  {
   "cell_type": "code",
   "execution_count": 1,
   "metadata": {},
   "outputs": [],
   "source": [
    "num_friends = [100.0,49,41,40,25,21,21,19,19,18,18,16,15,\n",
    "               15,15,15,14,14,13,13,13,13,12,12,11,10,10,\n",
    "               10,10,10,10,10,10,10,10,10,10,10,10,10,9,9\n",
    "               ,9,9,9,9,9,9,9,9,9,9,9,9,9,9,9,9,8,8,8,8,8,\n",
    "               8,8,8,8,8,8,8,8,7,7,7,7,7,7,7,7,7,7,7,7,7,7\n",
    "               ,7,6,6,6,6,6,6,6,6,6,6,6,6,6,6,6,6,6,6,6,6,\n",
    "               6,6,5,5,5,5,5,5,5,5,5,5,5,5,5,5,5,5,5,4,4,4,4\n",
    "               ,4,4,4,4,4,4,4,4,4,4,4,4,4,4,4,4,3,3,3,3,3,3,3,\n",
    "               3,3,3,3,3,3,3,3,3,3,3,3,3,2,2,2,2,2,2,2,2,2,\n",
    "               2,2,2,2,2,2,2,2,1,1,1,1,1,1,1,1,1,1,1,1,1,1,1,1,1,1,1,1,1,1]\n"
   ]
  },
  {
   "cell_type": "code",
   "execution_count": 2,
   "metadata": {},
   "outputs": [
    {
     "data": {
      "text/plain": [
       "<Figure size 640x480 with 1 Axes>"
      ]
     },
     "metadata": {},
     "output_type": "display_data"
    }
   ],
   "source": [
    "from collections import Counter\n",
    "import matplotlib.pyplot as plt\n",
    "\n",
    "friend_counts = Counter(num_friends)\n",
    "xs = range(101)\n",
    "ys = [friend_counts[x] for x in xs]\n",
    "plt.bar(xs,ys)\n",
    "plt.axis([0, 101, 0, 25])\n",
    "plt.title(\"Histogram of Friend Counts\")\n",
    "plt.xlabel(\"# of friends\")\n",
    "plt.ylabel(\"# of people\")\n",
    "plt.show()"
   ]
  },
  {
   "cell_type": "code",
   "execution_count": 3,
   "metadata": {},
   "outputs": [
    {
     "data": {
      "text/plain": [
       "204"
      ]
     },
     "execution_count": 3,
     "metadata": {},
     "output_type": "execute_result"
    }
   ],
   "source": [
    "num_points = len(num_friends)\n",
    "num_points"
   ]
  },
  {
   "cell_type": "code",
   "execution_count": 4,
   "metadata": {},
   "outputs": [],
   "source": [
    "largest_value = max(num_friends)            # 100\n",
    "smallest_value = min(num_friends)           # 1\n",
    "assert largest_value == 100\n",
    "assert smallest_value == 1"
   ]
  },
  {
   "cell_type": "code",
   "execution_count": 5,
   "metadata": {},
   "outputs": [],
   "source": [
    "sorted_values = sorted(num_friends)\n",
    "smallest_value = sorted_values[0]           # 1\n",
    "second_smallest_value = sorted_values[1]    # 1\n",
    "second_largest_value = sorted_values[-2]    # 49\n",
    "assert smallest_value == 1\n",
    "assert second_smallest_value == 1\n",
    "assert second_largest_value == 49"
   ]
  },
  {
   "cell_type": "markdown",
   "metadata": {},
   "source": [
    "### Central Tendencies"
   ]
  },
  {
   "cell_type": "code",
   "execution_count": 6,
   "metadata": {},
   "outputs": [
    {
     "data": {
      "text/plain": [
       "7.333333333333333"
      ]
     },
     "execution_count": 6,
     "metadata": {},
     "output_type": "execute_result"
    }
   ],
   "source": [
    "from typing import List\n",
    "def mean(xs: List[float]) -> float:\n",
    "    return sum(xs) / len(xs)\n",
    "mean(num_friends)"
   ]
  },
  {
   "cell_type": "code",
   "execution_count": 8,
   "metadata": {},
   "outputs": [],
   "source": [
    "# The underscores indicate that these are \"private\" functions, as they're\n",
    "# intended to be called by our median function but not by other people\n",
    "# using our statistics library.\n",
    "def _median_odd(xs: List[float]) -> float:\n",
    "    \"\"\"If len(xs) is odd, the median is the middle element\"\"\"\n",
    "    return sorted(xs)[len(xs) // 2]\n",
    "\n",
    "def _median_even(xs: List[float]) -> float:\n",
    "    \"\"\"If len(xs) is even, it's the average of the middle two elements\"\"\"\n",
    "    sorted_xs = sorted(xs)\n",
    "    hi_midpoint = len(xs) // 2  # e.g. length 4 => hi_midpoint 2\n",
    "    return (sorted_xs[hi_midpoint - 1] + sorted_xs[hi_midpoint]) / 2\n",
    "\n",
    "def median(v: List[float]) -> float:\n",
    "    \"\"\"Finds the 'middle-most' value of v\"\"\"\n",
    "    return _median_even(v) if len(v) % 2 == 0 else _median_odd(v)\n",
    "\n",
    "assert median([1, 10, 2, 9, 5]) == 5\n",
    "assert median([1, 9, 2, 10]) == (2 + 9) / 2\n"
   ]
  },
  {
   "cell_type": "code",
   "execution_count": 9,
   "metadata": {},
   "outputs": [
    {
     "name": "stdout",
     "output_type": "stream",
     "text": [
      "6.0\n"
     ]
    }
   ],
   "source": [
    "print(median(num_friends))"
   ]
  },
  {
   "cell_type": "markdown",
   "metadata": {},
   "source": [
    "### Quantile"
   ]
  },
  {
   "cell_type": "code",
   "execution_count": 10,
   "metadata": {},
   "outputs": [],
   "source": [
    "def quantile(xs: List[float], p: float) -> float:\n",
    "    p_index = int(p * len(xs))\n",
    "    return sorted(xs)[p_index]\n",
    "assert quantile(num_friends, 0.10) == 1\n",
    "assert quantile(num_friends, 0.25) == 3\n",
    "assert quantile(num_friends, 0.75) == 9\n",
    "assert quantile(num_friends, 0.90) == 13"
   ]
  },
  {
   "cell_type": "code",
   "execution_count": 14,
   "metadata": {},
   "outputs": [],
   "source": [
    "def mode(x: List[float]) -> List[float]:\n",
    "    counts = Counter(x)\n",
    "    max_count = max(counts.values())\n",
    "    return [ x_i for x_i, count in counts.items() if count == max_count]\n",
    "\n",
    "assert set(mode(num_friends)) == {1,6}"
   ]
  },
  {
   "cell_type": "markdown",
   "metadata": {},
   "source": [
    "### Dispersion"
   ]
  },
  {
   "cell_type": "code",
   "execution_count": null,
   "metadata": {},
   "outputs": [],
   "source": [
    "# Imported from Lineal Algebra -----------------------------------------------------\n",
    "from typing import List\n",
    "Vector = List[float]\n",
    "\n",
    "def dot(v: Vector, w: Vector) -> float:\n",
    "    assert len(v) == len(w), \"Vectors must be same length\"\n",
    "    return sum(v_i * w_i for v_i, w_i in zip(v,w))\n",
    "\n",
    "def sum_of_squares(v: Vector) -> float:\n",
    "    \"\"\" Return v_1 * v_1 + ... + v_n * v_n \"\"\"\n",
    "    return dot(v,v)\n",
    "# -----------------------------------------------------------------------------------"
   ]
  },
  {
   "cell_type": "code",
   "execution_count": 15,
   "metadata": {},
   "outputs": [],
   "source": [
    "# \"range\" already means something in Python, so we'll use a different name\n",
    "def data_range(xs: List[float]) -> float:\n",
    "    return max(xs) - min(xs)\n",
    "assert data_range(num_friends) == 99"
   ]
  },
  {
   "cell_type": "code",
   "execution_count": 20,
   "metadata": {},
   "outputs": [],
   "source": [
    "def de_mean(xs: List[float]) -> List[float]:\n",
    "    x_bar = mean(xs)\n",
    "    return [ x - x_bar for x in xs ]\n",
    "\n",
    "def variance(xs: List[float]) -> float:\n",
    "    assert len(xs) >= 2, \"Variance requires at least two elements\"\n",
    "    n = len(xs)\n",
    "    deviations = de_mean(xs)\n",
    "    return sum_of_squares(deviations) / (n - 1)\n",
    "assert 81.54 < variance(num_friends) < 81.55"
   ]
  },
  {
   "cell_type": "code",
   "execution_count": 21,
   "metadata": {},
   "outputs": [],
   "source": [
    "import math\n",
    "def standard_deviation(xs: List[float]) -> float:\n",
    "    return math.sqrt(variance(xs))\n",
    "assert 9.02 < standard_deviation(num_friends) < 9.04"
   ]
  },
  {
   "cell_type": "code",
   "execution_count": 22,
   "metadata": {},
   "outputs": [],
   "source": [
    "def interquartile_range(xs: List[float]) -> float:\n",
    "    return quantile(xs, 0.75) - quantile(xs, 0.25)\n",
    "assert interquartile_range(num_friends) == 6"
   ]
  },
  {
   "cell_type": "markdown",
   "metadata": {},
   "source": [
    "## Correlation"
   ]
  },
  {
   "cell_type": "code",
   "execution_count": 23,
   "metadata": {},
   "outputs": [],
   "source": [
    "\n",
    "\n",
    "daily_minutes = [1,68.77,51.25,52.08,38.36,44.54,57.13,51.4,\n",
    "                 41.42,31.22,34.76,54.01,38.79,47.59,49.1,\n",
    "                 27.66,41.03,36.73,48.65,28.12,46.62,35.57,\n",
    "                 32.98,35,26.07,23.77,39.73,40.57,31.65,31.21,\n",
    "                 36.32,20.45,21.93,26.02,27.34,23.49,46.94,30.5,\n",
    "                 33.8,24.23,21.4,27.94,32.24,40.57,25.07,19.42,\n",
    "                 22.39,18.42,46.96,23.72,26.41,26.97,36.76,40.32\n",
    "                 ,35.02,29.47,30.2,31,38.11,38.18,36.31,21.03,\n",
    "                 30.86,36.07,28.66,29.08,37.28,15.28,24.17,22.31,\n",
    "                 30.17,25.53,19.85,35.37,44.6,17.23,13.47,26.33,35.02\n",
    "                 ,32.09,24.81,19.33,28.77,24.26,31.98,25.73,24.86,\n",
    "                 16.28,34.51,15.23,39.72,40.8,26.06,35.76,34.76,16.13\n",
    "                 ,44.04,18.03,19.65,32.62,35.59,39.43,14.18,35.24,40.13\n",
    "                 ,41.82,35.45,36.07,43.67,24.61,20.9,21.9,18.79,\n",
    "                 27.61,27.21,26.61,29.77,20.59,27.53,13.82,33.2,\n",
    "                 25,33.1,36.65,18.63,14.87,22.2,36.81,25.53,24.62,26.25\n",
    "                 ,18.21,28.08,19.42,29.79,32.8,35.99,28.32,27.79,35.88,\n",
    "                 29.06,36.28,14.1,36.63,37.49,26.9,18.58,38.48,24.48,18.95\n",
    "                 ,33.55,14.24,29.04,32.51,25.63,22.22,19,32.73,15.16,13.9,\n",
    "                 27.2,32.01,29.27,33,13.74,20.42,27.32,18.23,35.35,28.48,\n",
    "                 9.08,24.62,20.12,35.26,19.92,31.02,16.49,12.16,30.7,31.22\n",
    "                 ,34.65,13.13,27.51,33.2,31.57,14.1,33.42,17.44,10.12,24.42\n",
    "                 ,9.82,23.39,30.93,15.03,21.67,31.09,33.29,22.61,26.89,23.48\n",
    "                 ,8.38,27.81,32.35,23.84]\n",
    "\n",
    "daily_hours = [dm / 60 for dm in daily_minutes]\n"
   ]
  },
  {
   "cell_type": "code",
   "execution_count": 25,
   "metadata": {},
   "outputs": [],
   "source": [
    "def covariance(xs: List[float], ys: List[float]) -> float:\n",
    "    assert len(xs) == len(ys),\"xs and ys must have same number of elements\"\n",
    "    return dot(de_mean(xs),de_mean(ys)) / (len(xs) - 1)\n",
    "assert 22.42 < covariance(num_friends, daily_minutes) < 22.43\n",
    "assert 22.42 / 60 < covariance(num_friends, daily_hours) < 22.43 / 60"
   ]
  },
  {
   "cell_type": "code",
   "execution_count": 26,
   "metadata": {},
   "outputs": [],
   "source": [
    "def correlation(xs: List[float], ys: List[float]) -> float:\n",
    "    stdev_x = standard_deviation(xs)\n",
    "    stdev_y = standard_deviation(ys)\n",
    "    if stdev_x > 0 and stdev_y > 0:\n",
    "        return covariance(xs, ys) / stdev_x / stdev_y\n",
    "    else:\n",
    "        return 0\n",
    "    \n",
    "    assert 0.24 < correlation(num_friends, daily_minutes) < 0.25\n",
    "    assert 0.24 < correlation(num_friends, daily_hours) < 0.25"
   ]
  },
  {
   "cell_type": "code",
   "execution_count": 27,
   "metadata": {},
   "outputs": [],
   "source": [
    "outlier = num_friends.index(100)    # index of outlier\n",
    "\n",
    "num_friends_good = [x\n",
    "                    for i, x in enumerate(num_friends)\n",
    "                    if i != outlier]\n",
    "\n",
    "daily_minutes_good = [x\n",
    "                      for i, x in enumerate(daily_minutes)\n",
    "                      if i != outlier]\n",
    "\n",
    "daily_hours_good = [dm / 60 for dm in daily_minutes_good]\n",
    "\n",
    "assert 0.57 < correlation(num_friends_good, daily_minutes_good) < 0.58\n",
    "assert 0.57 < correlation(num_friends_good, daily_hours_good) < 0.58"
   ]
  },
  {
   "cell_type": "code",
   "execution_count": null,
   "metadata": {},
   "outputs": [],
   "source": []
  }
 ],
 "metadata": {
  "kernelspec": {
   "display_name": "Python 3",
   "language": "python",
   "name": "python3"
  },
  "language_info": {
   "codemirror_mode": {
    "name": "ipython",
    "version": 3
   },
   "file_extension": ".py",
   "mimetype": "text/x-python",
   "name": "python",
   "nbconvert_exporter": "python",
   "pygments_lexer": "ipython3",
   "version": "3.7.3"
  }
 },
 "nbformat": 4,
 "nbformat_minor": 4
}
