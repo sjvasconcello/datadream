{
 "cells": [
  {
   "cell_type": "markdown",
   "metadata": {},
   "source": [
    "# Linear Algebra\n",
    "\n",
    "## Vectors"
   ]
  },
  {
   "cell_type": "code",
   "execution_count": 1,
   "metadata": {},
   "outputs": [],
   "source": [
    "from typing import List\n",
    "Vector = List[float]\n",
    "height_weight_age = [70, 170, 40]\n",
    "grade = [95, 80, 75, 62]"
   ]
  },
  {
   "cell_type": "code",
   "execution_count": 4,
   "metadata": {},
   "outputs": [],
   "source": [
    "def add(v: Vector, w: Vector) -> Vector:\n",
    "    assert len(v) == len(w)\n",
    "    return [v_i + w_i for v_i, w_i in zip(v,w)]\n",
    "assert add([1,2,3],[4,5,6]) == [5,7,9]"
   ]
  },
  {
   "cell_type": "code",
   "execution_count": 6,
   "metadata": {},
   "outputs": [],
   "source": [
    "def subtract(v: Vector, w: Vector) -> Vector:\n",
    "    \"\"\" Subtracts corresponding elements \"\"\"\n",
    "    assert len(v) == len(w)\n",
    "    return [v_i - w_i for v_i, w_i in zip(v,w)]\n",
    "assert subtract([5,7,9],[4,5,6]) == [1,2,3]"
   ]
  },
  {
   "cell_type": "code",
   "execution_count": 8,
   "metadata": {},
   "outputs": [],
   "source": [
    "def vector_sum(vectors: List[Vector]) -> Vector:\n",
    "    \"\"\" Sums all corresponding elements \"\"\"\n",
    "    # Check that vectors is not empty\n",
    "    assert vectors, \"No vectors provided!\"\n",
    "    \n",
    "    # Check the vectors are all the same size\n",
    "    num_elements = len(vectors[0])\n",
    "    assert all(len(v) == num_elements for v in vectors)\n",
    "    \n",
    "    # The i-th elements of the result is the sum of every vector[i]\n",
    "    return [sum(vector[i] for vector in vectors) \n",
    "            for i in range(num_elements)]\n",
    "\n",
    "assert vector_sum([[1,2],[3,4],[5,6],[7,8]]) == [16,20]\n",
    "    \n",
    "    "
   ]
  },
  {
   "cell_type": "code",
   "execution_count": 10,
   "metadata": {},
   "outputs": [],
   "source": [
    "def scalar_multiply(c: float, v: Vector) -> Vector:\n",
    "    \"\"\" Multiplies every element by c \"\"\"\n",
    "    return [ c * v_i for v_i in v ]\n",
    "assert scalar_multiply(2,[1,2,3]) == [2,4,6]"
   ]
  },
  {
   "cell_type": "code",
   "execution_count": 13,
   "metadata": {},
   "outputs": [],
   "source": [
    "def vector_mean(vectors: List[Vector]) -> Vector:\n",
    "    n = len(vectors)\n",
    "    return scalar_multiply(1/n, vector_sum(vectors))\n",
    "assert vector_mean([[1,2],[3,4],[5,6]]) == [3,4]"
   ]
  },
  {
   "cell_type": "code",
   "execution_count": 15,
   "metadata": {},
   "outputs": [],
   "source": [
    "def dot(v: Vector, w: Vector) -> float:\n",
    "    assert len(v) == len(w), \"Vectors must be same length\"\n",
    "    return sum(v_i * w_i for v_i, w_i in zip(v,w))\n",
    "assert dot([1,2,3],[4,5,6]) == 32"
   ]
  },
  {
   "cell_type": "code",
   "execution_count": 16,
   "metadata": {},
   "outputs": [],
   "source": [
    "def sum_of_squares(v: Vector) -> float:\n",
    "    \"\"\" Return v_1 * v_1 + ... + v_n * v_n \"\"\"\n",
    "    return dot(v,v)\n",
    "assert sum_of_squares([1,2,3]) == 14"
   ]
  },
  {
   "cell_type": "markdown",
   "metadata": {},
   "source": [
    "### Magnitude"
   ]
  },
  {
   "cell_type": "code",
   "execution_count": 17,
   "metadata": {},
   "outputs": [],
   "source": [
    "import math\n",
    "def magnitude(v: Vector) -> float:\n",
    "    \"\"\" Return the magnitude (or length) of v \"\"\"\n",
    "    return math.sqrt(sum_of_squares(v))\n",
    "assert magnitude([3,4]) == 5"
   ]
  },
  {
   "cell_type": "markdown",
   "metadata": {},
   "source": [
    "$$ \\sqrt{(v_1 - w_1)^2 + \\dots (v_n - w_n)^2} $$"
   ]
  },
  {
   "cell_type": "code",
   "execution_count": 19,
   "metadata": {},
   "outputs": [],
   "source": [
    "def squared_distance(v: Vector, w: Vector) -> float:\n",
    "    \"\"\" Computes (v_1 - w_1) ** 2 + ...+ (v_n - w_n) ** 2 \"\"\"\n",
    "    return sum_of_squares(subtract(v,w))\n",
    "\n",
    "def distance(v: Vector, w: Vector) -> float:\n",
    "    return math.sqrt(squared_distance(v,w))"
   ]
  },
  {
   "cell_type": "markdown",
   "metadata": {},
   "source": [
    "### Matrices"
   ]
  },
  {
   "cell_type": "code",
   "execution_count": 21,
   "metadata": {},
   "outputs": [],
   "source": [
    "Matrix = List[List[float]]\n",
    "A = [[1,2,3],[4,5,6]]\n",
    "B = [[1,2],\n",
    "     [3,4],\n",
    "     [5,6]]"
   ]
  },
  {
   "cell_type": "code",
   "execution_count": 22,
   "metadata": {},
   "outputs": [],
   "source": [
    "from typing import Tuple\n",
    "def shape(A: Matrix) -> Tuple[int, int]:\n",
    "    num_rows = len(A)\n",
    "    num_cols = len(A[0]) if A else 0 # numbers of elements in 1 row\n",
    "    return num_rows, num_cols\n",
    "\n",
    "assert shape([[1,2,3],[4,5,6]]) == (2,3)\n"
   ]
  },
  {
   "cell_type": "code",
   "execution_count": 23,
   "metadata": {},
   "outputs": [],
   "source": [
    "def get_row(A: Matrix, i: int) -> Vector:\n",
    "    \"\"\" Return the i-th row of A (as a Vector) \"\"\"\n",
    "    return A[i]\n",
    "\n",
    "def get_columns(A: Matrix, j: int) -> Vector:\n",
    "    \"\"\" Return the j-th column of A (as a Vector) \"\"\"\n",
    "    return [A_i[j] for A_i in A]"
   ]
  },
  {
   "cell_type": "code",
   "execution_count": 28,
   "metadata": {},
   "outputs": [],
   "source": [
    "from typing import Callable\n",
    "\n",
    "def make_matrix(num_rows: int,\n",
    "               num_cols: int,\n",
    "               entry_fn: Callable[[int,int],float]) -> Matrix:\n",
    "    \"\"\"\n",
    "    Return a num_rows x num_cols matrix\n",
    "    whose (i,j)-th entry is entry_fn(i,j)\n",
    "    \"\"\"\n",
    "    return [[entry_fn(i,j) \n",
    "             for j in range(num_cols)] \n",
    "            for i in range(num_rows)]\n",
    "\n",
    "def identity_matrix(n: int) -> Matrix:\n",
    "    \"\"\" Return the n x n identity matrix \"\"\"\n",
    "    return make_matrix(n, n, lambda i,j: 1 if i == j else 0)\n",
    "\n",
    "assert identity_matrix(5) == [[1,0,0,0,0],\n",
    "                             [0,1,0,0,0],\n",
    "                             [0,0,1,0,0],\n",
    "                             [0,0,0,1,0],\n",
    "                             [0,0,0,0,1]]\n"
   ]
  },
  {
   "cell_type": "code",
   "execution_count": 32,
   "metadata": {},
   "outputs": [
    {
     "data": {
      "text/plain": [
       "[[0, 1, 1, 0, 0, 0, 0, 0, 0, 0],\n",
       " [1, 0, 1, 1, 0, 0, 0, 0, 0, 0],\n",
       " [1, 1, 0, 1, 0, 0, 0, 0, 0, 0],\n",
       " [0, 1, 1, 0, 1, 0, 0, 0, 0, 0],\n",
       " [0, 0, 0, 1, 0, 1, 0, 0, 0, 0],\n",
       " [0, 0, 0, 0, 1, 0, 1, 1, 0, 0],\n",
       " [0, 0, 0, 0, 0, 1, 0, 0, 1, 0],\n",
       " [0, 0, 0, 0, 0, 1, 0, 0, 1, 0],\n",
       " [0, 0, 0, 0, 0, 0, 1, 1, 0, 1],\n",
       " [0, 0, 0, 0, 0, 0, 0, 0, 1, 0]]"
      ]
     },
     "execution_count": 32,
     "metadata": {},
     "output_type": "execute_result"
    }
   ],
   "source": [
    "friendships = [(0, 1), (0, 2), (1, 2), (1, 3), (2, 3), (3, 4),\n",
    "               (4, 5), (5, 6), (5, 7), (6, 8), (7, 8), (8, 9)]\n",
    "\n",
    "#            user 0  1  2  3  4  5  6  7  8  9\n",
    "#\n",
    "friend_matrix = [[0, 1, 1, 0, 0, 0, 0, 0, 0, 0],  # user 0\n",
    "                 [1, 0, 1, 1, 0, 0, 0, 0, 0, 0],  # user 1\n",
    "                 [1, 1, 0, 1, 0, 0, 0, 0, 0, 0],  # user 2\n",
    "                 [0, 1, 1, 0, 1, 0, 0, 0, 0, 0],  # user 3\n",
    "                 [0, 0, 0, 1, 0, 1, 0, 0, 0, 0],  # user 4\n",
    "                 [0, 0, 0, 0, 1, 0, 1, 1, 0, 0],  # user 5\n",
    "                 [0, 0, 0, 0, 0, 1, 0, 0, 1, 0],  # user 6\n",
    "                 [0, 0, 0, 0, 0, 1, 0, 0, 1, 0],  # user 7\n",
    "                 [0, 0, 0, 0, 0, 0, 1, 1, 0, 1],  # user 8\n",
    "                 [0, 0, 0, 0, 0, 0, 0, 0, 1, 0]]  # user 9\n",
    "friend_matrix"
   ]
  },
  {
   "cell_type": "code",
   "execution_count": 33,
   "metadata": {},
   "outputs": [],
   "source": [
    "assert friend_matrix[0][2] == 1, \"0 and 2 are friends\"\n",
    "assert friend_matrix[0][8] == 0, \"0 and 8 are not friends\""
   ]
  },
  {
   "cell_type": "code",
   "execution_count": null,
   "metadata": {},
   "outputs": [],
   "source": []
  }
 ],
 "metadata": {
  "kernelspec": {
   "display_name": "Python 3",
   "language": "python",
   "name": "python3"
  },
  "language_info": {
   "codemirror_mode": {
    "name": "ipython",
    "version": 3
   },
   "file_extension": ".py",
   "mimetype": "text/x-python",
   "name": "python",
   "nbconvert_exporter": "python",
   "pygments_lexer": "ipython3",
   "version": "3.7.3"
  }
 },
 "nbformat": 4,
 "nbformat_minor": 2
}
